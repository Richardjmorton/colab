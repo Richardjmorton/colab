{
  "nbformat": 4,
  "nbformat_minor": 0,
  "metadata": {
    "colab": {
      "provenance": [],
      "authorship_tag": "ABX9TyNxBJsM44B1IV66vWE5Qv97",
      "include_colab_link": true
    },
    "kernelspec": {
      "name": "python3",
      "display_name": "Python 3"
    },
    "language_info": {
      "name": "python"
    }
  },
  "cells": [
    {
      "cell_type": "markdown",
      "metadata": {
        "id": "view-in-github",
        "colab_type": "text"
      },
      "source": [
        "<a href=\"https://colab.research.google.com/github/Richardjmorton/colab/blob/master/SDO_ML_Roboflow.ipynb\" target=\"_parent\"><img src=\"https://colab.research.google.com/assets/colab-badge.svg\" alt=\"Open In Colab\"/></a>"
      ]
    },
    {
      "cell_type": "markdown",
      "source": [
        "SDO ML repository https://registry.opendata.aws/sdoml-fdl/"
      ],
      "metadata": {
        "id": "-LEVaDCB6xBF"
      }
    },
    {
      "cell_type": "code",
      "source": [
        "!pip install zarr s3fs"
      ],
      "metadata": {
        "colab": {
          "base_uri": "https://localhost:8080/"
        },
        "id": "XpQQrJKW99bq",
        "outputId": "1b6549cc-fd24-42f8-a1e7-1e95789e78dd"
      },
      "execution_count": 2,
      "outputs": [
        {
          "output_type": "stream",
          "name": "stdout",
          "text": [
            "Collecting zarr\n",
            "  Downloading zarr-2.15.0-py3-none-any.whl (206 kB)\n",
            "\u001b[?25l     \u001b[90m━━━━━━━━━━━━━━━━━━━━━━━━━━━━━━━━━━━━━━━━\u001b[0m \u001b[32m0.0/206.1 kB\u001b[0m \u001b[31m?\u001b[0m eta \u001b[36m-:--:--\u001b[0m\r\u001b[2K     \u001b[91m━━━━━━━━━━━━━━━━━━━━━━━━━━━━━━━━━━━━━━\u001b[0m\u001b[91m╸\u001b[0m \u001b[32m204.8/206.1 kB\u001b[0m \u001b[31m7.1 MB/s\u001b[0m eta \u001b[36m0:00:01\u001b[0m\r\u001b[2K     \u001b[90m━━━━━━━━━━━━━━━━━━━━━━━━━━━━━━━━━━━━━━━\u001b[0m \u001b[32m206.1/206.1 kB\u001b[0m \u001b[31m5.2 MB/s\u001b[0m eta \u001b[36m0:00:00\u001b[0m\n",
            "\u001b[?25hCollecting s3fs\n",
            "  Downloading s3fs-2023.6.0-py3-none-any.whl (28 kB)\n",
            "Collecting asciitree (from zarr)\n",
            "  Downloading asciitree-0.3.3.tar.gz (4.0 kB)\n",
            "  Preparing metadata (setup.py) ... \u001b[?25l\u001b[?25hdone\n",
            "Requirement already satisfied: numpy>=1.20 in /usr/local/lib/python3.10/dist-packages (from zarr) (1.22.4)\n",
            "Collecting fasteners (from zarr)\n",
            "  Downloading fasteners-0.18-py3-none-any.whl (18 kB)\n",
            "Collecting numcodecs>=0.10.0 (from zarr)\n",
            "  Downloading numcodecs-0.11.0-cp310-cp310-manylinux_2_17_x86_64.manylinux2014_x86_64.whl (6.7 MB)\n",
            "\u001b[2K     \u001b[90m━━━━━━━━━━━━━━━━━━━━━━━━━━━━━━━━━━━━━━━━\u001b[0m \u001b[32m6.7/6.7 MB\u001b[0m \u001b[31m66.8 MB/s\u001b[0m eta \u001b[36m0:00:00\u001b[0m\n",
            "\u001b[?25hCollecting aiobotocore~=2.5.0 (from s3fs)\n",
            "  Downloading aiobotocore-2.5.2-py3-none-any.whl (72 kB)\n",
            "\u001b[2K     \u001b[90m━━━━━━━━━━━━━━━━━━━━━━━━━━━━━━━━━━━━━━━━\u001b[0m \u001b[32m72.9/72.9 kB\u001b[0m \u001b[31m7.6 MB/s\u001b[0m eta \u001b[36m0:00:00\u001b[0m\n",
            "\u001b[?25hRequirement already satisfied: fsspec==2023.6.0 in /usr/local/lib/python3.10/dist-packages (from s3fs) (2023.6.0)\n",
            "Requirement already satisfied: aiohttp!=4.0.0a0,!=4.0.0a1 in /usr/local/lib/python3.10/dist-packages (from s3fs) (3.8.4)\n",
            "Collecting botocore<1.29.162,>=1.29.161 (from aiobotocore~=2.5.0->s3fs)\n",
            "  Downloading botocore-1.29.161-py3-none-any.whl (10.9 MB)\n",
            "\u001b[2K     \u001b[90m━━━━━━━━━━━━━━━━━━━━━━━━━━━━━━━━━━━━━━━━\u001b[0m \u001b[32m10.9/10.9 MB\u001b[0m \u001b[31m97.1 MB/s\u001b[0m eta \u001b[36m0:00:00\u001b[0m\n",
            "\u001b[?25hRequirement already satisfied: wrapt<2.0.0,>=1.10.10 in /usr/local/lib/python3.10/dist-packages (from aiobotocore~=2.5.0->s3fs) (1.14.1)\n",
            "Collecting aioitertools<1.0.0,>=0.5.1 (from aiobotocore~=2.5.0->s3fs)\n",
            "  Downloading aioitertools-0.11.0-py3-none-any.whl (23 kB)\n",
            "Requirement already satisfied: attrs>=17.3.0 in /usr/local/lib/python3.10/dist-packages (from aiohttp!=4.0.0a0,!=4.0.0a1->s3fs) (23.1.0)\n",
            "Requirement already satisfied: charset-normalizer<4.0,>=2.0 in /usr/local/lib/python3.10/dist-packages (from aiohttp!=4.0.0a0,!=4.0.0a1->s3fs) (2.0.12)\n",
            "Requirement already satisfied: multidict<7.0,>=4.5 in /usr/local/lib/python3.10/dist-packages (from aiohttp!=4.0.0a0,!=4.0.0a1->s3fs) (6.0.4)\n",
            "Requirement already satisfied: async-timeout<5.0,>=4.0.0a3 in /usr/local/lib/python3.10/dist-packages (from aiohttp!=4.0.0a0,!=4.0.0a1->s3fs) (4.0.2)\n",
            "Requirement already satisfied: yarl<2.0,>=1.0 in /usr/local/lib/python3.10/dist-packages (from aiohttp!=4.0.0a0,!=4.0.0a1->s3fs) (1.9.2)\n",
            "Requirement already satisfied: frozenlist>=1.1.1 in /usr/local/lib/python3.10/dist-packages (from aiohttp!=4.0.0a0,!=4.0.0a1->s3fs) (1.4.0)\n",
            "Requirement already satisfied: aiosignal>=1.1.2 in /usr/local/lib/python3.10/dist-packages (from aiohttp!=4.0.0a0,!=4.0.0a1->s3fs) (1.3.1)\n",
            "Requirement already satisfied: entrypoints in /usr/local/lib/python3.10/dist-packages (from numcodecs>=0.10.0->zarr) (0.4)\n",
            "Collecting jmespath<2.0.0,>=0.7.1 (from botocore<1.29.162,>=1.29.161->aiobotocore~=2.5.0->s3fs)\n",
            "  Downloading jmespath-1.0.1-py3-none-any.whl (20 kB)\n",
            "Requirement already satisfied: python-dateutil<3.0.0,>=2.1 in /usr/local/lib/python3.10/dist-packages (from botocore<1.29.162,>=1.29.161->aiobotocore~=2.5.0->s3fs) (2.8.2)\n",
            "Requirement already satisfied: urllib3<1.27,>=1.25.4 in /usr/local/lib/python3.10/dist-packages (from botocore<1.29.162,>=1.29.161->aiobotocore~=2.5.0->s3fs) (1.26.16)\n",
            "Requirement already satisfied: idna>=2.0 in /usr/local/lib/python3.10/dist-packages (from yarl<2.0,>=1.0->aiohttp!=4.0.0a0,!=4.0.0a1->s3fs) (3.4)\n",
            "Requirement already satisfied: six>=1.5 in /usr/local/lib/python3.10/dist-packages (from python-dateutil<3.0.0,>=2.1->botocore<1.29.162,>=1.29.161->aiobotocore~=2.5.0->s3fs) (1.16.0)\n",
            "Building wheels for collected packages: asciitree\n",
            "  Building wheel for asciitree (setup.py) ... \u001b[?25l\u001b[?25hdone\n",
            "  Created wheel for asciitree: filename=asciitree-0.3.3-py3-none-any.whl size=5034 sha256=2bbd75d8fe7b4d4b192d35733eb74d39b1f657ab223f9bc86a3efeb6d712f750\n",
            "  Stored in directory: /root/.cache/pip/wheels/7f/4e/be/1171b40f43b918087657ec57cf3b81fa1a2e027d8755baa184\n",
            "Successfully built asciitree\n",
            "Installing collected packages: asciitree, numcodecs, jmespath, fasteners, aioitertools, zarr, botocore, aiobotocore, s3fs\n",
            "Successfully installed aiobotocore-2.5.2 aioitertools-0.11.0 asciitree-0.3.3 botocore-1.29.161 fasteners-0.18 jmespath-1.0.1 numcodecs-0.11.0 s3fs-2023.6.0 zarr-2.15.0\n"
          ]
        }
      ]
    },
    {
      "cell_type": "code",
      "source": [
        "import os\n",
        "from typing import Union\n",
        "\n",
        "import s3fs\n",
        "import zarr\n",
        "\n",
        "AWS_ZARR_ROOT = (\n",
        "    \"s3://gov-nasa-hdrl-data1/contrib/fdl-sdoml/fdl-sdoml-v2/sdomlv2_small.zarr/\"\n",
        ")\n",
        "\n",
        "\n",
        "def s3_connection(path_to_zarr: os.path) -> s3fs.S3Map:\n",
        "    \"\"\"\n",
        "    Instantiate connection to aws for a given path `path_to_zarr`\n",
        "    \"\"\"\n",
        "    return s3fs.S3Map(\n",
        "        root=path_to_zarr,\n",
        "        s3=s3fs.S3FileSystem(anon=True),\n",
        "        # anonymous access requires no credentials\n",
        "        check=False,\n",
        "    )\n",
        "\n",
        "\n",
        "def load_single_aws_zarr(\n",
        "    path_to_zarr: os.path,\n",
        "    cache_max_single_size: int = None,\n",
        ") -> Union[zarr.Array, zarr.Group]:\n",
        "    \"\"\"\n",
        "    load zarr from s3 using LRU cache\n",
        "    \"\"\"\n",
        "    return zarr.open(\n",
        "        zarr.LRUStoreCache(\n",
        "            store=s3_connection(path_to_zarr),\n",
        "            max_size=cache_max_single_size,\n",
        "        ),\n",
        "        mode=\"r\",\n",
        "    )"
      ],
      "metadata": {
        "id": "OpH0aEeb928g"
      },
      "execution_count": 7,
      "outputs": []
    },
    {
      "cell_type": "code",
      "source": [
        "root = load_single_aws_zarr(\n",
        "    path_to_zarr=AWS_ZARR_ROOT,\n",
        ")\n",
        "\n",
        "print(root.tree())"
      ],
      "metadata": {
        "colab": {
          "base_uri": "https://localhost:8080/"
        },
        "id": "5MY-C5mg93hm",
        "outputId": "a2f2412f-a887-4e06-d00f-5fa27d6f2079"
      },
      "execution_count": 8,
      "outputs": [
        {
          "output_type": "stream",
          "name": "stdout",
          "text": [
            "/\n",
            " └── 2010\n",
            "     ├── 131A (6135, 512, 512) float32\n",
            "     ├── 1600A (6136, 512, 512) float32\n",
            "     ├── 1700A (6135, 512, 512) float32\n",
            "     ├── 171A (6135, 512, 512) float32\n",
            "     ├── 193A (6135, 512, 512) float32\n",
            "     ├── 211A (6136, 512, 512) float32\n",
            "     ├── 304A (6134, 512, 512) float32\n",
            "     ├── 335A (6135, 512, 512) float32\n",
            "     └── 94A (6136, 512, 512) float32\n"
          ]
        }
      ]
    },
    {
      "cell_type": "code",
      "source": [],
      "metadata": {
        "id": "BtmZc91M-F8O"
      },
      "execution_count": null,
      "outputs": []
    },
    {
      "cell_type": "markdown",
      "source": [
        "For producing labels automatically: Grounding Dino https://github.com/roboflow/notebooks/blob/main/notebooks/zero-shot-object-detection-with-grounding-dino.ipynb"
      ],
      "metadata": {
        "id": "R5gX2zMWAFDL"
      }
    },
    {
      "cell_type": "markdown",
      "source": [
        "Using YOLO v8 for object detection https://www.youtube.com/watch?v=wuZtUMEiKWY"
      ],
      "metadata": {
        "id": "LOMsBubrDGsh"
      }
    },
    {
      "cell_type": "code",
      "source": [],
      "metadata": {
        "id": "JeOME2GkAKXz"
      },
      "execution_count": null,
      "outputs": []
    }
  ]
}